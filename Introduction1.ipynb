{
 "cells": [
  {
   "cell_type": "markdown",
   "metadata": {},
   "source": [
    "# Quant Basics 101"
   ]
  },
  {
   "cell_type": "markdown",
   "metadata": {},
   "source": [
    "## Part 1 : The Basics"
   ]
  },
  {
   "cell_type": "markdown",
   "metadata": {},
   "source": [
    "We have at our disposal $N_t^{\\$}$ dollars to invest. <br />\n",
    "\n",
    "We must determine how much to invest in each asset on each day $t$ : meaning the individual quantities $x^{i}_t$ to be invested at the close.<br />\n",
    "\n",
    "For the sake of simplicity, we don't considerate investing in risk-free rate. <br />\n",
    "\n",
    "The individual quantities $x^{i}_t$ could be positive or negative allowing short positions (the possibility of not owning the asset but selling it). <br /> Those quantities in dollars could be missleading so we prefer percentages : <br />\n",
    "\n",
    "$$x_{t}^{i} = N_{t}^{\\$} . w^{i}_{t}$$\n",
    "\n",
    "with:\n",
    "- $x_{t}^{i}$ : Allocation\n",
    "- $N_{t}^{\\$}$ : Notional\n",
    "- $w^{i}_{t}$ : Fraction\n",
    "\n",
    "\n",
    "$x_{t}^{i}$ is the amount of dollars invested in a single asset $S^{i}$ and the number of shares to hold is given by :\n",
    "\n",
    "$$n_{t}^{i} = \\frac{x_{t}^{i}}{S_{t}^{i}} = \\frac{N_{t}^{\\$} . w^{i}_{t}}{S_{t}^{i}}"
   ]
  },
  {
   "cell_type": "code",
   "execution_count": 1,
   "metadata": {},
   "outputs": [],
   "source": [
    "import numpy as np"
   ]
  },
  {
   "cell_type": "code",
   "execution_count": 2,
   "metadata": {},
   "outputs": [
    {
     "name": "stdout",
     "output_type": "stream",
     "text": [
      "N_0 is at $100000000 equal-weighted on 3 assets that have 3 different stock prices 53.0, 121.0 and 93.0.\n",
      "The number of shares holded initially in our portfolio is 628930.82 for the asset S_1, 275482.09 for the asset S_2 and 358422.94 for the asset S_3.\n"
     ]
    }
   ],
   "source": [
    "N_0 = 100_000_000 # Initial Capitalization\n",
    "n = 3 # 3 assets\n",
    "S_0 = np.array([53.0, 121.0, 93.0])\n",
    "\n",
    "print(f\"N_0 is at ${N_0} equal-weighted on {n} assets that have 3 different stock prices {S_0[0]}, {S_0[1]} and {S_0[2]}.\")\n",
    "\n",
    "w_0 = np.ones(n) / n #Equal weighted between three assets\n",
    "x_0 = N_0 * w_0\n",
    "\n",
    "n_0 = x_0 / S_0\n",
    "\n",
    "print(f\"The number of shares holded initially in our portfolio is {n_0[0]:.2f} for the asset S_1, {n_0[1]:.2f} for the asset S_2 and {n_0[2]:.2f} for the asset S_3.\")"
   ]
  },
  {
   "cell_type": "markdown",
   "metadata": {},
   "source": [
    "Our notional at disposal is not necessarily : $\\sum | w_{t}^{i} | = 1$ but could be $\\sum | w_{t}^{i} | > 1$ is we decide to apply some leverage on our strategy.\n",
    "\n",
    "Leveraging is short selling stocks we don't have creating an excedent of capital."
   ]
  },
  {
   "cell_type": "markdown",
   "metadata": {},
   "source": [
    "### Short Portfolio with a leverage of 110%"
   ]
  },
  {
   "cell_type": "code",
   "execution_count": 3,
   "metadata": {},
   "outputs": [
    {
     "name": "stdout",
     "output_type": "stream",
     "text": [
      "The leverage is 110.00%\n",
      "The number of shares holded initially in our portfolio is 943396.23 for the asset S_1, -330578.51 for the asset S_2 and 215053.76 for the asset S_3\n"
     ]
    }
   ],
   "source": [
    "w_0_short = np.array([0.5, -0.4, 0.2])\n",
    "\n",
    "x_0 = N_0 * w_0_short\n",
    "\n",
    "n_0 = x_0 / S_0\n",
    "\n",
    "leverage = np.sum(np.abs(w_0_short)) * 100\n",
    "\n",
    "print(f\"The leverage is {leverage:.2f}%\")\n",
    "print(f\"The number of shares holded initially in our portfolio is {n_0[0]:.2f} for the asset S_1, {n_0[1]:.2f} for the asset S_2 and {n_0[2]:.2f} for the asset S_3\")"
   ]
  },
  {
   "cell_type": "markdown",
   "metadata": {},
   "source": [
    "On the next day, considering that delta is one-day period and only looking at the closing prices, here is what's going to happen on the Profits \\& Loss (P\\&L): \n",
    "\n",
    "$$ P\\&L^{i}(t, \\delta) = n_{t}^{i} . \\delta S_{t}^{i} = N_{t}^{\\$} . w^{i}_{t}\\frac{(S_{t+\\delta}^{i} - S_{t}^{i})}{S_{t}^{i}} =  N_{t}^{\\$}.w^{i}_{t}.r_{t}^{i}$$\n",
    "\n",
    "with $r_{t}^{i}$ the return over that $\\delta$ period of time on that given asset."
   ]
  },
  {
   "cell_type": "markdown",
   "metadata": {},
   "source": [
    "### Computation of the P&L for the long-only portfolio and the leveraged one :"
   ]
  },
  {
   "cell_type": "code",
   "execution_count": 4,
   "metadata": {},
   "outputs": [
    {
     "name": "stdout",
     "output_type": "stream",
     "text": [
      "P&L on the long only portfolio = $-1096954.16\n",
      "P&L on the long-short portfolio = $263393.07\n"
     ]
    }
   ],
   "source": [
    "S_1 = np.array([52.0, 118.0, 94.0]) #prices one day later\n",
    "\n",
    "returns = (S_1 - S_0) / S_0 \n",
    "\n",
    "PnL_long = N_0 * w_0 @ returns\n",
    "print(f\"P&L on the long only portfolio = ${PnL_long:.2f}\")\n",
    "\n",
    "PnL_leverage = N_0 * w_0_short @ returns\n",
    "print(f\"P&L on the long-short portfolio = ${PnL_leverage:.2f}\")"
   ]
  },
  {
   "cell_type": "markdown",
   "metadata": {},
   "source": [
    "The goal is to design a set of quantitative rules that would be used daily to determine the allocation weights $w_{t}^{i}$ to 'maximize' the P&L $\\sum_{S^{i}} w_{t}^{i} r_{t}^{i}$"
   ]
  }
 ],
 "metadata": {
  "kernelspec": {
   "display_name": "Python 3",
   "language": "python",
   "name": "python3"
  },
  "language_info": {
   "codemirror_mode": {
    "name": "ipython",
    "version": 3
   },
   "file_extension": ".py",
   "mimetype": "text/x-python",
   "name": "python",
   "nbconvert_exporter": "python",
   "pygments_lexer": "ipython3",
   "version": "3.9.6"
  }
 },
 "nbformat": 4,
 "nbformat_minor": 2
}
